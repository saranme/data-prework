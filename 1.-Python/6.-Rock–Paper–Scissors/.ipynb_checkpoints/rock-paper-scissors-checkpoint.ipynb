{
 "cells": [
  {
   "cell_type": "markdown",
   "metadata": {},
   "source": [
    "<img src=\"https://bit.ly/2VnXWr2\" width=\"100\" align=\"left\">"
   ]
  },
  {
   "cell_type": "markdown",
   "metadata": {},
   "source": [
    "# Rock, Paper & Scissors\n",
    "\n",
    "Let's play the famous game against our computer. You can check the rules [here](https://en.wikipedia.org/wiki/Rock%E2%80%93paper%E2%80%93scissors). \n",
    "\n",
    "## Task\n",
    "Create a program that imitates the playability of the well known game of rock, paper, scissors. Follow the guidelines provided.\n",
    "\n",
    "## Tools\n",
    "1. Loop: **for/while**\n",
    "2. Functions: **input(), print()...**\n",
    "3. Conditional statements: **if, elif, else**\n",
    "4. Definition of functions. Modular programming\n",
    "5. Import modules\n",
    "\n",
    "**To solve this challenge, the use of functions is recommended.**\n",
    "\n",
    "#### 1. Import the choice function of the random module."
   ]
  },
  {
   "cell_type": "code",
   "execution_count": 195,
   "metadata": {},
   "outputs": [],
   "source": [
    "import random"
   ]
  },
  {
   "cell_type": "markdown",
   "metadata": {},
   "source": [
    "#### 2. Create a list that includes the 3 possible gesture options of the game: 'rock', 'paper' or 'scissors'. Store the list in a variable called `gestures`."
   ]
  },
  {
   "cell_type": "code",
   "execution_count": 196,
   "metadata": {},
   "outputs": [],
   "source": [
    "gestures = ['rock','paper','scissors'] "
   ]
  },
  {
   "cell_type": "markdown",
   "metadata": {},
   "source": [
    "#### 3. Create a variable called `n_rounds` to store the maximum number of rounds to play in a game. \n",
    "Remember that the number of rounds must be odd: 1, 3, 5, ..."
   ]
  },
  {
   "cell_type": "code",
   "execution_count": 197,
   "metadata": {},
   "outputs": [],
   "source": [
    "n_rounds = 5"
   ]
  },
  {
   "cell_type": "markdown",
   "metadata": {},
   "source": [
    "#### 4. Create a variable called `rounds_to_win` to store the number of rounds that a player must win to win the game.\n",
    "**Hint**: the value stored in `rounds_to_win` depends on the value of `n_rounds`. "
   ]
  },
  {
   "cell_type": "code",
   "execution_count": 198,
   "metadata": {},
   "outputs": [],
   "source": [
    "rounds_to_win = n_rounds // 2 + 1"
   ]
  },
  {
   "cell_type": "markdown",
   "metadata": {},
   "source": [
    "#### 5. Create two variables to store the number of rounds that the computer and the player have won. Call these variables `cpu_score` and `player_score`."
   ]
  },
  {
   "cell_type": "code",
   "execution_count": 199,
   "metadata": {},
   "outputs": [],
   "source": [
    "cpu_score = 0\n",
    "player_score = 0"
   ]
  },
  {
   "cell_type": "markdown",
   "metadata": {},
   "source": [
    "#### 6. Define a function that randomly returns one of the 3 gesture options.\n",
    "You will use this function to simulate the gesture choice of the computer. "
   ]
  },
  {
   "cell_type": "code",
   "execution_count": 200,
   "metadata": {},
   "outputs": [],
   "source": [
    "def gesture_choice():\n",
    "    return random.choice(gestures)"
   ]
  },
  {
   "cell_type": "markdown",
   "metadata": {},
   "source": [
    "#### 7. Define a function that asks the player which is the gesture he or she wants to show: 'rock', 'paper' or 'scissors'.\n",
    "The player should only be allowed to choose one of the 3 gesture options. If the player's choice is not rock, paper or scissors, keep asking until it is."
   ]
  },
  {
   "cell_type": "code",
   "execution_count": 201,
   "metadata": {},
   "outputs": [],
   "source": [
    "def player_ask():\n",
    "    while input('Choose one: rock, paper or scissors ') not in gestures:\n",
    "        input('Choose one: rock, paper or scissors ')"
   ]
  },
  {
   "cell_type": "markdown",
   "metadata": {},
   "source": [
    "#### 8. Define a function that checks who won a round. \n",
    "The function should return 0 if there is a tie, 1 if the computer wins and 2 if the player wins."
   ]
  },
  {
   "cell_type": "code",
   "execution_count": 202,
   "metadata": {},
   "outputs": [],
   "source": [
    "def check_who_won(player, computer):\n",
    "    if player == 'rock':\n",
    "        if computer == 'rock':\n",
    "            return 0\n",
    "        elif computer == 'paper':\n",
    "            return 2\n",
    "        else:\n",
    "            return 1\n",
    "    elif player == 'paper':\n",
    "        if computer == 'rock':\n",
    "            return 1\n",
    "        elif computer == 'paper':\n",
    "            return 2\n",
    "        else:\n",
    "            return 1\n",
    "    else:\n",
    "        if computer == 'rock':\n",
    "            return 1\n",
    "        elif computer == 'paper':\n",
    "            return 2\n",
    "        else:\n",
    "            return 0"
   ]
  },
  {
   "cell_type": "markdown",
   "metadata": {},
   "source": [
    "#### 9. Define a function that prints the choice of the computer, the choice of the player and a message that announces who won the current round. \n",
    "You should also use this function to update the variables that count the number of rounds that the computer and the player have won. The score of the winner increases by one point. If there is a tie, the score does not increase."
   ]
  },
  {
   "cell_type": "code",
   "execution_count": 203,
   "metadata": {},
   "outputs": [],
   "source": [
    "def choices(player,computer):\n",
    "    if check_who_won(player,computer) == 1:\n",
    "        global cpu_score\n",
    "        cpu_score += 1\n",
    "        print('Computer wins the current round.')\n",
    "    elif check_who_won(player,computer) == 2:\n",
    "        global player_score\n",
    "        player_score += 1\n",
    "        print('You win the current round.')\n",
    "    else:\n",
    "        print('There is a tie.')"
   ]
  },
  {
   "cell_type": "markdown",
   "metadata": {},
   "source": [
    "#### 10. Now it's time to code the execution of the game using the functions and variables you defined above. \n",
    "\n",
    "First, create a loop structure that repeats while no player reaches the minimum score necessary to win and the number of rounds is less than the maximum number of rounds to play in a game.  \n",
    "\n",
    "Inside the loop, use the functions and variables above to create the execution of a round: ask for the player's choice, generate the random choice of the computer, show the round results, update the scores, etc. "
   ]
  },
  {
   "cell_type": "code",
   "execution_count": null,
   "metadata": {},
   "outputs": [],
   "source": [
    "def game():\n",
    "    count = 0\n",
    "    while count < n_rounds or (player_score < rounds_to_win or cpu_score < rounds_to_win):\n",
    "        choices(player_ask(),gesture_choice())\n",
    "        count += 1"
   ]
  },
  {
   "cell_type": "markdown",
   "metadata": {},
   "source": [
    "#### 11. Print the winner of the game based on who won more rounds.\n",
    "Remember that the game might be tied. "
   ]
  },
  {
   "cell_type": "code",
   "execution_count": null,
   "metadata": {},
   "outputs": [],
   "source": [
    "def winner():\n",
    "    game()\n",
    "    if player_score > cpu_score:\n",
    "        return 'You are the winner of the game!'\n",
    "    elif player_score < cpu_score:\n",
    "        return 'You loose.'\n",
    "    else:\n",
    "        return 'Tie.'\n",
    "winner()"
   ]
  },
  {
   "cell_type": "markdown",
   "metadata": {},
   "source": [
    "# Bonus: Rock, Paper, Scissors, Lizard & Spock\n",
    "![](images/rpsls.jpg)\n",
    "\n",
    "In this challenge, you need to improve the previous game by adding two new options. To know more about the rules of the improved version of rock, paper, scissors, check this [link](http://www.samkass.com/theories/RPSSL.html). \n",
    "\n",
    "In addition, you will also need to improve how the game interacts with the player: the number of rounds to play, which must be an odd number, will be requested to the user until a valid number is entered. Define a new function to make that request.\n",
    "\n",
    "**Hint**: Try to reuse the code that you already coded in the previous challenge. If your code is efficient, this bonus will only consist of simple modifications to the original game."
   ]
  },
  {
   "cell_type": "code",
   "execution_count": 1,
   "metadata": {},
   "outputs": [],
   "source": [
    "import random\n",
    "gestures = ['rock','paper','scissors'] \n",
    "gestures.append('lizzard')\n",
    "gestures.append('spock')\n",
    "player_score = 0\n",
    "cpu_score = 0\n",
    "def gesture_choice():\n",
    "    return random.choice(gestures)\n",
    "\n",
    "def player_ask():\n",
    "    asking = input('Choose one: rock, paper, scissors, lizzard or spock ')\n",
    "    while asking not in gestures:\n",
    "        asking = input('Choose one: rock, paper, scissors, lizzard or spock ')\n",
    "        \n",
    "def rounds():\n",
    "    asking = int(input('How many rounds do you want to play? '))\n",
    "    while asking % 2 == 0:\n",
    "        asking = int(input('How many rounds do you want to play? '))\n",
    "    reply = int(asking)\n",
    "    return reply"
   ]
  },
  {
   "cell_type": "code",
   "execution_count": 2,
   "metadata": {},
   "outputs": [],
   "source": [
    "def check_who_won(player, computer):\n",
    "    if player == 'rock':\n",
    "        if computer == 'rock':\n",
    "            return 0\n",
    "        elif computer == 'paper':\n",
    "            return 2\n",
    "        elif computer == 'scissors':\n",
    "            return 1\n",
    "        elif computer == 'spock':\n",
    "            return 1\n",
    "        else:\n",
    "            return 2\n",
    "    elif player == 'paper':\n",
    "        if computer == 'rock':\n",
    "            return 1\n",
    "        elif computer == 'paper':\n",
    "            return 2\n",
    "        elif computer == 'scissors':\n",
    "            return 1\n",
    "        elif computer == 'spock':\n",
    "            return 2\n",
    "        else:\n",
    "            return 1\n",
    "    elif player == 'scissors':\n",
    "        if computer == 'rock':\n",
    "            return 1\n",
    "        elif computer == 'paper':\n",
    "            return 2\n",
    "        elif computer == 'scissors':\n",
    "            return 0\n",
    "        elif computer == 'spock':\n",
    "            return 1\n",
    "        else:\n",
    "            return 2\n",
    "    elif player == 'spock':\n",
    "        if computer == 'rock':\n",
    "            return 2\n",
    "        elif computer == 'paper':\n",
    "            return 1\n",
    "        elif computer == 'scissors':\n",
    "            return 2\n",
    "        elif computer == 'spock':\n",
    "            return 0\n",
    "        else:\n",
    "            return 1\n",
    "    else:\n",
    "        if computer == 'rock':\n",
    "            return 1\n",
    "        elif computer == 'paper':\n",
    "            return 2\n",
    "        elif computer == 'scissors':\n",
    "            return 1\n",
    "        elif computer == 'spock':\n",
    "            return 2\n",
    "        else:\n",
    "            return 0"
   ]
  },
  {
   "cell_type": "code",
   "execution_count": 3,
   "metadata": {},
   "outputs": [],
   "source": [
    "def choices(player,computer):\n",
    "    if check_who_won(player,computer) == 1:\n",
    "        global cpu_score\n",
    "        cpu_score += 1\n",
    "        print('Computer wins the current round.')\n",
    "    elif check_who_won(player,computer) == 2:\n",
    "        global player_score\n",
    "        player_score += 1\n",
    "        print('You win the current round.')\n",
    "    else:\n",
    "        print('There is a tie.')"
   ]
  },
  {
   "cell_type": "code",
   "execution_count": 4,
   "metadata": {},
   "outputs": [
    {
     "name": "stdout",
     "output_type": "stream",
     "text": [
      "How many rounds do you want to play? 7\n",
      "Choose one: rock, paper, scissors, lizzard or spock rock\n",
      "There is a tie.\n",
      "Choose one: rock, paper, scissors, lizzard or spock rock\n",
      "Computer wins the current round.\n",
      "Choose one: rock, paper, scissors, lizzard or spock asdf\n",
      "Choose one: rock, paper, scissors, lizzard or spock paper\n",
      "Computer wins the current round.\n",
      "Choose one: rock, paper, scissors, lizzard or spock lizzard\n",
      "Computer wins the current round.\n",
      "Choose one: rock, paper, scissors, lizzard or spock spock\n",
      "There is a tie.\n",
      "Choose one: rock, paper, scissors, lizzard or spock paper\n",
      "You win the current round.\n",
      "Choose one: rock, paper, scissors, lizzard or spock scissors\n",
      "You win the current round.\n"
     ]
    },
    {
     "data": {
      "text/plain": [
       "'You loose.'"
      ]
     },
     "execution_count": 4,
     "metadata": {},
     "output_type": "execute_result"
    }
   ],
   "source": [
    "def game():\n",
    "    n_rounds = int(rounds())\n",
    "    rounds_to_win = n_rounds // 2 + 1\n",
    "    count = 0\n",
    "    while count < n_rounds:\n",
    "        if player_score >= rounds_to_win or cpu_score >= rounds_to_win:\n",
    "            break\n",
    "        else:\n",
    "            choices(player_ask(),gesture_choice())\n",
    "            count += 1\n",
    "    if player_score > cpu_score:\n",
    "        return 'You are the winner of the game!'\n",
    "    elif player_score < cpu_score:\n",
    "        return 'You loose.'\n",
    "    else:\n",
    "        return 'Tie.'\n",
    "game()"
   ]
  }
 ],
 "metadata": {
  "kernelspec": {
   "display_name": "Python 3",
   "language": "python",
   "name": "python3"
  },
  "language_info": {
   "codemirror_mode": {
    "name": "ipython",
    "version": 3
   },
   "file_extension": ".py",
   "mimetype": "text/x-python",
   "name": "python",
   "nbconvert_exporter": "python",
   "pygments_lexer": "ipython3",
   "version": "3.7.9"
  }
 },
 "nbformat": 4,
 "nbformat_minor": 2
}
